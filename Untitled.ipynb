{
 "cells": [
  {
   "cell_type": "code",
   "execution_count": 2,
   "id": "7a5c57a0-99e1-4432-b779-577371c3db7f",
   "metadata": {},
   "outputs": [],
   "source": [
    "import numpy as np\n",
    "import pandas as pd"
   ]
  },
  {
   "cell_type": "code",
   "execution_count": 3,
   "id": "7de7a8e3-f0cd-426a-9af4-a8860267c204",
   "metadata": {},
   "outputs": [],
   "source": [
    "import matplotlib.pyplot as plt\n",
    "import seaborn as sns"
   ]
  },
  {
   "cell_type": "code",
   "execution_count": 5,
   "id": "838d7ffd-b180-452e-9277-ebfb598a0dd4",
   "metadata": {},
   "outputs": [],
   "source": [
    "sns.set_style(\"darkgrid\")"
   ]
  },
  {
   "cell_type": "code",
   "execution_count": 6,
   "id": "b6a2b50e-6fd3-40f4-b59c-096aec241689",
   "metadata": {},
   "outputs": [],
   "source": [
    "df=pd.read_csv(\"starbucks.csv\",index_col=0)"
   ]
  },
  {
   "cell_type": "code",
   "execution_count": 7,
   "id": "3630975b-f22c-4fb1-97dc-d6552e3b26e3",
   "metadata": {},
   "outputs": [
    {
     "data": {
      "text/html": [
       "<div>\n",
       "<style scoped>\n",
       "    .dataframe tbody tr th:only-of-type {\n",
       "        vertical-align: middle;\n",
       "    }\n",
       "\n",
       "    .dataframe tbody tr th {\n",
       "        vertical-align: top;\n",
       "    }\n",
       "\n",
       "    .dataframe thead th {\n",
       "        text-align: right;\n",
       "    }\n",
       "</style>\n",
       "<table border=\"1\" class=\"dataframe\">\n",
       "  <thead>\n",
       "    <tr style=\"text-align: right;\">\n",
       "      <th></th>\n",
       "      <th>item</th>\n",
       "      <th>calories</th>\n",
       "      <th>fat</th>\n",
       "      <th>carb</th>\n",
       "      <th>fiber</th>\n",
       "      <th>protein</th>\n",
       "      <th>type</th>\n",
       "    </tr>\n",
       "  </thead>\n",
       "  <tbody>\n",
       "    <tr>\n",
       "      <th>1</th>\n",
       "      <td>8-Grain Roll</td>\n",
       "      <td>350</td>\n",
       "      <td>8.0</td>\n",
       "      <td>67</td>\n",
       "      <td>5</td>\n",
       "      <td>10</td>\n",
       "      <td>bakery</td>\n",
       "    </tr>\n",
       "    <tr>\n",
       "      <th>2</th>\n",
       "      <td>Apple Bran Muffin</td>\n",
       "      <td>350</td>\n",
       "      <td>9.0</td>\n",
       "      <td>64</td>\n",
       "      <td>7</td>\n",
       "      <td>6</td>\n",
       "      <td>bakery</td>\n",
       "    </tr>\n",
       "    <tr>\n",
       "      <th>3</th>\n",
       "      <td>Apple Fritter</td>\n",
       "      <td>420</td>\n",
       "      <td>20.0</td>\n",
       "      <td>59</td>\n",
       "      <td>0</td>\n",
       "      <td>5</td>\n",
       "      <td>bakery</td>\n",
       "    </tr>\n",
       "    <tr>\n",
       "      <th>4</th>\n",
       "      <td>Banana Nut Loaf</td>\n",
       "      <td>490</td>\n",
       "      <td>19.0</td>\n",
       "      <td>75</td>\n",
       "      <td>4</td>\n",
       "      <td>7</td>\n",
       "      <td>bakery</td>\n",
       "    </tr>\n",
       "    <tr>\n",
       "      <th>5</th>\n",
       "      <td>Birthday Cake Mini Doughnut</td>\n",
       "      <td>130</td>\n",
       "      <td>6.0</td>\n",
       "      <td>17</td>\n",
       "      <td>0</td>\n",
       "      <td>0</td>\n",
       "      <td>bakery</td>\n",
       "    </tr>\n",
       "  </tbody>\n",
       "</table>\n",
       "</div>"
      ],
      "text/plain": [
       "                          item  calories   fat  carb  fiber  protein    type\n",
       "1                 8-Grain Roll       350   8.0    67      5       10  bakery\n",
       "2            Apple Bran Muffin       350   9.0    64      7        6  bakery\n",
       "3                Apple Fritter       420  20.0    59      0        5  bakery\n",
       "4              Banana Nut Loaf       490  19.0    75      4        7  bakery\n",
       "5  Birthday Cake Mini Doughnut       130   6.0    17      0        0  bakery"
      ]
     },
     "execution_count": 7,
     "metadata": {},
     "output_type": "execute_result"
    }
   ],
   "source": [
    "df.head()"
   ]
  },
  {
   "cell_type": "code",
   "execution_count": null,
   "id": "097582fd-594c-4e2b-b36f-57b5bcdb066d",
   "metadata": {},
   "outputs": [],
   "source": []
  }
 ],
 "metadata": {
  "kernelspec": {
   "display_name": "Python 3 (ipykernel)",
   "language": "python",
   "name": "python3"
  },
  "language_info": {
   "codemirror_mode": {
    "name": "ipython",
    "version": 3
   },
   "file_extension": ".py",
   "mimetype": "text/x-python",
   "name": "python",
   "nbconvert_exporter": "python",
   "pygments_lexer": "ipython3",
   "version": "3.10.9"
  }
 },
 "nbformat": 4,
 "nbformat_minor": 5
}
