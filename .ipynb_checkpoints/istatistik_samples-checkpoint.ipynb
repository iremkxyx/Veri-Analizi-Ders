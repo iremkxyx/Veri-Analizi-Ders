{
 "cells": [
  {
   "cell_type": "code",
   "execution_count": 1,
   "id": "2a1ca54b",
   "metadata": {},
   "outputs": [],
   "source": [
    "import numpy as np"
   ]
  },
  {
   "cell_type": "code",
   "execution_count": 2,
   "id": "3aeac42e",
   "metadata": {},
   "outputs": [
    {
     "data": {
      "text/plain": [
       "array([ 4.25775476e+03,  5.80713212e+03,  7.62294992e+03,  2.25059725e+03,\n",
       "        9.57387154e+02,  5.76010985e+03,  3.62321237e+03,  5.44053942e+01,\n",
       "        4.35794742e+03,  5.55740219e+03,  4.51102298e+03,  4.23180805e+03,\n",
       "        4.58543024e+03,  4.96839428e+03,  8.05011461e+03,  4.02972608e+03,\n",
       "        5.54537204e+03,  4.50007885e+03,  4.85507458e+03,  5.17289633e+03,\n",
       "        8.78772825e+03,  1.82659433e+03,  6.93463826e+02,  3.94614676e+03,\n",
       "        1.13812163e+03,  5.27601739e+03,  5.96446079e+03,  3.97961910e+03,\n",
       "        6.00807334e+03,  6.74951449e+03,  7.32822323e+03,  6.79188294e+03,\n",
       "        7.12576123e+03,  7.24086970e+03,  6.16187721e+03,  3.98969252e+03,\n",
       "        6.01345977e+03,  5.60036413e+03,  7.17399675e+03,  7.15062479e+03,\n",
       "        1.39848478e+03,  3.80296069e+03,  7.87581728e+03,  4.98395616e+03,\n",
       "        3.12283765e+03,  3.34234793e+03,  7.85356505e+03,  4.16350241e+03,\n",
       "        6.42122093e+03,  5.81363992e+03,  7.30212569e+03,  1.62002906e+03,\n",
       "        5.15047625e+03,  8.19170504e+03,  7.04966990e+03,  2.46173562e+03,\n",
       "        1.85590931e+03,  4.14819751e+03,  1.69263586e+03,  4.45979419e+03,\n",
       "        3.31311832e+03,  4.86624707e+03,  6.51465336e+03,  5.83384801e+03,\n",
       "        5.74397956e+03,  5.72809803e+03,  5.02252043e+03,  6.65877817e+03,\n",
       "        3.41433387e+03,  4.35918124e+03,  5.39378176e+03,  2.11529899e+03,\n",
       "        5.05252891e+03,  4.72384294e+03,  2.26714444e+03,  1.74163119e+03,\n",
       "        2.33769736e+03,  7.37935201e+03,  4.06384761e+03,  6.58043255e+03,\n",
       "        3.38606493e+03,  3.80787304e+03,  3.52280834e+03,  6.41853252e+03,\n",
       "        5.40193901e+03,  5.02521647e+03,  4.56566871e+03,  2.60527695e+03,\n",
       "        6.58292979e+03,  4.42095385e+03,  3.14608877e+03,  6.24944068e+03,\n",
       "        6.83187001e+03,  5.87500420e+03,  6.57514713e+03,  3.30456300e+03,\n",
       "        3.21587134e+03,  7.66817529e+03,  5.62023562e+03,  5.92390178e+03,\n",
       "        4.79202040e+03,  4.93987274e+03,  2.77604805e+03,  1.97996121e+03,\n",
       "        3.99303255e+03,  7.11261358e+03,  6.71803858e+03,  8.74270088e+03,\n",
       "        5.31607139e+03,  6.27830840e+03,  4.86700306e+03,  6.34689832e+03,\n",
       "        2.28996532e+03,  5.74510706e+03,  4.26824310e+03,  5.77616772e+03,\n",
       "        6.41805701e+03,  4.59717924e+03,  6.20272191e+03,  4.52641564e+03,\n",
       "        3.58480943e+03,  3.50313959e+03,  1.55551320e+03,  4.56273534e+03,\n",
       "        2.75117537e+03,  3.05331397e+03,  5.43535992e+03,  5.80930972e+03,\n",
       "        5.23815265e+03,  2.26758225e+03,  6.20434831e+03,  4.50540632e+03,\n",
       "        5.66951959e+03,  4.84252732e+03,  2.01273361e+03,  2.78638271e+03,\n",
       "        1.05264827e+04,  6.43463584e+03,  7.60883311e+03,  6.20006782e+03,\n",
       "        6.20695470e+03,  5.88238869e+03,  5.98817022e+03,  4.58027002e+03,\n",
       "        3.37396870e+03,  5.74372277e+03,  2.80718837e+03,  5.48682264e+02,\n",
       "        5.57718747e+03,  6.22629302e+03,  8.02716990e+03,  1.02765356e+03,\n",
       "        7.22871345e+03,  3.77502363e+03,  6.59094678e+03,  5.29032029e+03,\n",
       "        3.37164531e+03,  5.41149138e+03,  5.92298095e+03,  4.15405118e+03,\n",
       "        2.73476921e+03,  4.42331124e+03,  5.23474774e+03,  7.21297353e+03,\n",
       "        1.58525899e+03,  5.05781399e+03,  3.80019674e+03,  3.86031069e+03,\n",
       "        6.29810430e+03,  6.12451800e+03,  4.18385724e+03,  4.53324058e+03,\n",
       "        4.48515956e+03,  5.41409556e+03,  7.89669035e+03,  3.69445269e+03,\n",
       "        8.74932963e+03,  4.03929729e+03,  5.41368038e+03,  6.79508346e+03,\n",
       "        7.56565459e+03,  6.55749309e+03,  7.62880419e+03,  5.19300870e+03,\n",
       "        3.94890669e+03,  6.49503006e+03,  4.97418679e+03,  5.03765116e+03,\n",
       "        4.36294834e+03,  7.06302321e+03,  5.69466055e+03,  6.08912513e+03,\n",
       "        6.84802606e+03,  6.88392878e+03,  6.71617907e+03,  5.00134887e+03,\n",
       "        7.51038485e+03,  6.78145114e+03,  4.72868970e+03,  4.66416480e+03,\n",
       "        5.62867679e+03,  8.05237822e+03,  4.99348814e+03,  3.55383001e+03,\n",
       "        3.63546373e+03,  8.15358688e+03,  3.27420282e+03,  3.70206708e+03,\n",
       "        1.02826092e+04,  6.22911112e+03,  5.82969028e+03,  4.56560433e+03,\n",
       "        4.98481669e+03,  6.30184487e+03,  6.13511361e+03,  3.31594371e+03,\n",
       "        4.51281374e+03,  5.55685199e+03,  5.49214850e+03,  4.40166335e+03,\n",
       "        2.69109781e+03,  5.39683173e+03,  1.52436135e+03,  5.76391118e+02,\n",
       "        2.47982365e+03,  3.73094000e+03,  4.20593001e+03,  5.34366623e+03,\n",
       "        2.35776493e+03,  6.53616179e+03,  3.55378334e+03,  3.47987694e+03,\n",
       "        7.80116966e+03,  4.16966156e+03,  5.84643915e+03,  1.60702116e+03,\n",
       "        4.55533349e+03,  5.46718745e+03,  2.21327372e+03,  9.89113446e+03,\n",
       "        5.71812421e+03,  7.68293903e+03,  2.67904579e+03,  4.48168224e+03,\n",
       "        1.09830408e+03,  4.35701634e+03,  6.84642701e+03,  2.86447487e+03,\n",
       "        2.56320690e+03,  5.35940435e+03,  4.93412921e+03,  6.30791328e+03,\n",
       "        3.12936222e+03,  2.66217002e+03,  5.87791377e+03,  1.88474020e+03,\n",
       "        5.66096750e+03,  4.22116562e+03,  1.65444089e+03,  5.49979897e+03,\n",
       "        5.87907557e+03,  2.93430641e+03,  5.06410185e+03,  5.45590146e+03,\n",
       "        2.68297501e+03,  2.58326228e+03, -1.12014455e+02,  1.71173494e+03,\n",
       "        4.07904487e+03,  7.99110173e+03,  8.54311570e+03,  1.85604857e+03,\n",
       "        1.01248109e+04,  2.95824781e+03,  4.05459821e+03,  3.96129619e+03,\n",
       "        5.38359998e+03,  4.59540677e+03,  3.70190051e+03,  3.46210363e+03,\n",
       "        5.72093690e+03,  4.23485121e+03,  7.36943586e+02,  2.12063974e+03,\n",
       "        2.95988104e+03,  4.26818533e+03,  6.02364043e+03,  4.62332351e+03,\n",
       "        4.71173895e+03,  3.30299244e+03,  3.40455283e+03,  5.32147637e+03,\n",
       "        6.00575734e+03,  1.01979982e+04,  4.85875032e+03,  3.88836467e+03,\n",
       "        6.43959444e+03,  4.23455099e+03,  6.03549407e+03,  1.01299192e+03,\n",
       "        2.21970338e+03,  4.25651917e+03,  6.48756852e+03,  2.33233837e+03,\n",
       "        3.36705110e+03,  2.72901584e+03,  5.39054640e+03,  5.17499723e+03,\n",
       "        6.71143256e+03,  2.38929049e+03,  5.25540284e+03,  6.26641519e+03,\n",
       "        7.27479749e+03,  5.33256932e+03,  7.84952967e+03,  5.47419395e+03,\n",
       "        2.91450411e+03,  2.96146569e+03,  6.26264021e+03,  8.78757029e+03,\n",
       "        6.71803574e+03,  6.55303865e+03,  3.57947335e+03,  7.82441584e+03,\n",
       "        6.69584434e+03,  8.31852648e+03,  1.97220449e+03,  2.29891188e+03,\n",
       "        2.02537721e+03,  1.84016099e+03,  3.49380112e+03,  4.20050550e+03,\n",
       "        6.53695451e+03,  3.29428051e+03,  1.69345607e+03,  3.64783179e+03,\n",
       "        2.82619056e+03,  3.98730518e+03,  8.30855030e+03,  3.02054999e+03,\n",
       "        6.20218506e+03,  7.15064815e+03,  5.78903520e+03,  3.98860384e+03,\n",
       "        2.90214260e+03,  6.65683631e+03,  5.25777858e+03,  2.51191627e+03,\n",
       "        4.34373189e+03,  7.53936474e+03,  4.22765543e+03,  9.60912240e+03,\n",
       "       -1.33649361e+03,  5.85368179e+03,  8.58983395e+03,  4.76336308e+03,\n",
       "        5.23581633e+03,  7.19359688e+03,  5.04521015e+03,  7.14162727e+03,\n",
       "        8.51357590e+03,  6.15905051e+03,  1.69230764e+03,  8.18951344e+03,\n",
       "        3.74152275e+03,  8.73809622e+03,  4.03757787e+03,  2.47682881e+03,\n",
       "        5.80548048e+03,  2.84029755e+03,  7.68265152e+03,  5.96131038e+03,\n",
       "        4.84133381e+03,  8.22682809e+03,  6.74134014e+03,  3.79693531e+03,\n",
       "        3.12603725e+03,  5.35487163e+03,  2.01524704e+03,  6.15279291e+03,\n",
       "        4.86681598e+03,  6.03413638e+03,  4.11676054e+03,  5.27335969e+03,\n",
       "        5.69419528e+03,  4.47400521e+03,  9.21224020e+03,  3.63851612e+03,\n",
       "        8.08549008e+03,  3.94011090e+03,  4.24160931e+03,  3.80905689e+03,\n",
       "        7.30166848e+03,  7.04065221e+03,  7.96797184e+03,  7.60106644e+03,\n",
       "        3.77812548e+03,  1.12799184e+03,  2.99578138e+03,  2.33269905e+03,\n",
       "        1.05812802e+04,  7.21345768e+03,  6.63224699e+03,  6.46748277e+03,\n",
       "        4.82139328e+03,  4.78127965e+03,  4.63478668e+03,  6.05387650e+03,\n",
       "        5.42445478e+03,  1.70759507e+03,  4.44151388e+03,  7.22508310e+03,\n",
       "        5.46721994e+03,  1.04660635e+03,  5.39465662e+03,  2.48555170e+03,\n",
       "        3.96619108e+03,  2.26865286e+03,  1.51677304e+03,  7.56106465e+03,\n",
       "        4.48738341e+03,  7.14269635e+03,  5.01050489e+03,  3.88517681e+03,\n",
       "        5.87767616e+03,  4.22486346e+03,  1.53175780e+03,  4.02911576e+03,\n",
       "        3.82718328e+03,  5.12900947e+03,  4.48716569e+03,  5.17413261e+03,\n",
       "        7.71917232e+03,  7.14062632e+03,  4.02186355e+03,  7.49883006e+03,\n",
       "        4.83415364e+03,  5.34674790e+03,  7.22032643e+03,  6.51125538e+03,\n",
       "        6.50749469e+03, -3.28447020e+02,  6.58513661e+03,  3.72136649e+03,\n",
       "        4.34371677e+03,  5.22201975e+03,  5.91876712e+03,  3.53322111e+03,\n",
       "        3.25597123e+03,  3.58324349e+03,  8.02847691e+03,  5.45185477e+03,\n",
       "        7.10491317e+03,  6.47735457e+03,  7.84459402e+03,  2.68388664e+03,\n",
       "        8.07549728e+03,  9.02821741e+03,  2.83220033e+03,  6.89010159e+03,\n",
       "        6.52676735e+03,  3.97206669e+03,  3.27013126e+03,  4.19868457e+03,\n",
       "        3.83441637e+03,  6.30676001e+03,  3.97100200e+03,  7.50177148e+03,\n",
       "        4.13815313e+03,  2.85546038e+03,  3.31082842e+03,  4.92313521e+03,\n",
       "        6.60041432e+03,  5.30816864e+03,  4.98074872e+03,  6.21253605e+03,\n",
       "        4.04268995e+03,  4.21108780e+03,  5.41726060e+03,  4.04780789e+03,\n",
       "        4.98891794e+03,  3.97991341e+03,  4.72650905e+03,  8.32151660e+03,\n",
       "        4.46562594e+03,  7.78234798e+03,  4.08002927e+03,  4.72311858e+03,\n",
       "        8.07258000e+03,  4.31702073e+03,  5.86835853e+03,  3.44973309e+03,\n",
       "        5.30872351e+03,  6.65951311e+03,  5.15376213e+03,  3.08964596e+03,\n",
       "        4.66007228e+03,  4.80648453e+03,  3.07226845e+03,  4.14383010e+03,\n",
       "        7.03010100e+03,  5.70897227e+03,  1.07492554e+02,  7.19296722e+03,\n",
       "        5.64647391e+03,  2.33924675e+03,  6.37017687e+03,  4.26547130e+03,\n",
       "        4.79679568e+03,  4.21092654e+03,  6.04652376e+03,  8.67259306e+03,\n",
       "        7.12502375e+03,  7.11303759e+03,  7.75263817e+03,  5.03087426e+03,\n",
       "        3.22101844e+03,  7.41609454e+03,  6.11852796e+03,  2.94699682e+03,\n",
       "        2.01736910e+03,  4.65895454e+03,  4.72860482e+03,  4.43402613e+03,\n",
       "        5.34273510e+03,  5.70412035e+03,  4.83119330e+03,  3.03699074e+03,\n",
       "        5.08208100e+03,  4.44957937e+03,  4.31378450e+03,  6.99442664e+03,\n",
       "        3.98920391e+03,  3.67545245e+03,  4.18443184e+03,  4.75725926e+03,\n",
       "        5.12479921e+03,  3.89934798e+03,  8.90455308e+03,  5.11056148e+02,\n",
       "        4.72333366e+03,  5.16111263e+03,  4.33867562e+03,  8.38890872e+03,\n",
       "        5.43656621e+03,  8.22171967e+03,  1.51683718e+03,  6.41051669e+03,\n",
       "        3.47089607e+03,  2.12291839e+03,  6.69605688e+03,  7.66173959e+03,\n",
       "        8.06761813e+03,  5.18875764e+03,  6.77046303e+03,  4.52828356e+03,\n",
       "        2.50764808e+03,  9.42916557e+03,  3.34111747e+03,  5.10480257e+03,\n",
       "        5.54346062e+03,  5.89213822e+03,  7.14092240e+03,  5.82284740e+02,\n",
       "        2.45977257e+03,  1.35742595e+03,  7.64866167e+03,  6.38714506e+03,\n",
       "        4.72860797e+03,  7.75047825e+03,  7.65371345e+03,  3.58509840e+03,\n",
       "        2.33057047e+03,  2.34641182e+03,  7.02339920e+03,  6.74195698e+03,\n",
       "        8.16723452e+03,  7.30394780e+02,  6.66111518e+03,  3.86281052e+03,\n",
       "        7.38138843e+03,  2.13544119e+03,  4.24450161e+03,  2.56855804e+03,\n",
       "        5.72840443e+03,  1.20671186e+03,  7.22871204e+03,  2.22941114e+02,\n",
       "        1.01032723e+04,  1.95187422e+03,  8.21559674e+03,  5.74163802e+03,\n",
       "        7.15884571e+03,  5.62499181e+03,  5.35096530e+03,  7.97665892e+03,\n",
       "        8.25630419e+03,  4.22471047e+03,  4.63514658e+03,  7.76402839e+03,\n",
       "        5.43421118e+03,  3.54347641e+03,  1.22259282e+04,  5.31468331e+03,\n",
       "        3.61035863e+03,  4.38010923e+03,  1.99910272e+03,  5.31914420e+03,\n",
       "        1.26452674e+03,  7.38196020e+03,  5.84903818e+03,  5.31001699e+03,\n",
       "        3.80688182e+03,  4.44729046e+03,  3.50914776e+03,  3.16141085e+03,\n",
       "        6.28083915e+03,  5.64534884e+03,  3.49796576e+03,  6.44530421e+03,\n",
       "        2.29122764e+03,  8.12409585e+03,  4.65321292e+03,  6.20872631e+03,\n",
       "        3.67709987e+03,  5.04841925e+03,  5.62087566e+03,  6.71829413e+03,\n",
       "        5.95608622e+03,  5.07468221e+03,  4.98988333e+03,  3.67545701e+03,\n",
       "        3.92438450e+03,  4.05214111e+03,  3.74364268e+03,  4.65895642e+03,\n",
       "        3.96124658e+03,  5.07812805e+03,  3.85514281e+03,  8.39962087e+03,\n",
       "        7.78081946e+03,  4.77626696e+03,  4.31262059e+03,  8.73940303e+03,\n",
       "        2.41707512e+03,  4.13466073e+03,  8.16536198e+03,  5.08335361e+03,\n",
       "        6.44601399e+03,  3.23566613e+03,  5.93690176e+03,  3.97701675e+03,\n",
       "        4.84330715e+03,  3.82901717e+03,  4.79827338e+03,  3.75841070e+03,\n",
       "        6.18539566e+03,  3.06667993e+03,  5.19059586e+03,  3.20598228e+03,\n",
       "        1.25425005e+03,  4.75266540e+03,  7.66990249e+03,  5.99902772e+03,\n",
       "        5.69918319e+03,  1.27153057e+03,  2.68851653e+03,  6.17288418e+03,\n",
       "        2.81742527e+03,  3.50013988e+03,  3.94999845e+03,  9.31612907e+03,\n",
       "        3.67117792e+03,  2.32897975e+03,  5.46832625e+03,  1.06793862e+04,\n",
       "        5.77408931e+03,  5.91480074e+03,  8.08468160e+03,  4.20455219e+03,\n",
       "        3.21050426e+03,  6.16799339e+03,  3.37356498e+03,  7.80956061e+03,\n",
       "        2.67181296e+03,  6.26748724e+00,  1.72164818e+03,  6.22057953e+03,\n",
       "        7.33966418e+03,  7.89433625e+03, -9.50514779e-01,  5.04135732e+03,\n",
       "        9.34895608e+03,  7.68317785e+03,  6.00701489e+03,  4.76853128e+03,\n",
       "        3.52687937e+03,  1.67092644e+03,  1.62115160e+03,  5.33525164e+02,\n",
       "        3.47769694e+03,  6.67618269e+03,  3.60806684e+03,  1.44831398e+03,\n",
       "        6.82575055e+03,  5.86922897e+03, -2.17828699e+02,  2.35500227e+03,\n",
       "        3.95998098e+03,  2.85849950e+03,  6.78512806e+03,  6.32570025e+03,\n",
       "        6.64127995e+03,  5.73551837e+03,  7.14655670e+03,  8.60421452e+03,\n",
       "        5.78865030e+03,  6.83122458e+03,  6.02582590e+03,  5.09136278e+03,\n",
       "        7.05219232e+03,  7.14137879e+03,  6.05997996e+03,  8.16019199e+03,\n",
       "        5.34143883e+03,  7.05075499e+03,  3.66423778e+03,  7.02548541e+03,\n",
       "        6.69711287e+03,  7.81087972e+03,  3.27547734e+03,  3.64724015e+03,\n",
       "        2.96247225e+03,  5.05966949e+03,  5.15911269e+03,  5.72100444e+03,\n",
       "        2.25991507e+03,  1.09883834e+03,  4.52316961e+03,  6.55585943e+03,\n",
       "        4.70407683e+03,  3.47314127e+03,  3.37404678e+03,  4.58496909e+03,\n",
       "        3.13635487e+03,  4.32322282e+03,  5.16333105e+03,  3.51256453e+02,\n",
       "        4.78043285e+03,  3.44810112e+03,  4.32601653e+03,  7.38337150e+03,\n",
       "        5.43339079e+03,  3.33812766e+03,  3.11946017e+03,  4.38256352e+03,\n",
       "        6.49863839e+03,  3.20343267e+03,  3.88162718e+03,  5.61383429e+03,\n",
       "        5.29789656e+03,  7.31580512e+03,  4.23304519e+03,  5.08785591e+03,\n",
       "        5.83363121e+03,  3.40112068e+03,  4.90137182e+03,  3.47271024e+03,\n",
       "        7.97154743e+03,  6.41936817e+03,  7.97562040e+03,  6.03056113e+03,\n",
       "        3.78578263e+03,  3.76387174e+03,  5.70871736e+03,  5.73252043e+03,\n",
       "        3.40346662e+03,  3.78690978e+03,  4.73004276e+03,  3.89755724e+03,\n",
       "        2.45036537e+03,  4.86946918e+03,  5.69335596e+03,  7.98710283e+03,\n",
       "        1.71443525e+02,  6.52228642e+03,  1.72803526e+03,  8.48977812e+03,\n",
       "        6.94011009e+03,  3.63595101e+03,  3.19346908e+03,  8.72479221e+03,\n",
       "        3.23183905e+03,  7.39408967e+03,  7.26417287e+03,  7.99016512e+03,\n",
       "        5.21264745e+03,  4.52256585e+03,  4.72001296e+03,  4.10339735e+03,\n",
       "       -9.88889697e+01,  1.47123107e+03,  3.90276157e+03,  3.44257830e+03,\n",
       "        4.74968462e+03,  6.88507659e+03,  2.65221967e+03,  5.20889510e+03,\n",
       "        2.38469204e+03,  5.16150445e+03,  6.11274072e+03,  7.51142883e+03,\n",
       "        6.01682929e+03,  6.49260127e+03,  3.10622690e+03,  8.23351134e+03,\n",
       "        3.09490711e+03,  3.25481742e+03,  4.43334273e+03,  4.54108118e+03,\n",
       "        5.63608966e+03,  1.63613748e+03,  2.20941473e+03,  5.45971271e+03,\n",
       "        3.07428137e+03,  4.51124266e+03,  8.10413997e+03,  7.74692788e+03,\n",
       "        6.31906162e+03,  7.37554001e+03,  3.05192541e+03,  4.30060645e+03,\n",
       "        2.74349918e+03,  4.92648577e+03,  9.17764622e+03,  2.98096363e+02,\n",
       "        4.98917363e+03,  3.30899858e+03,  5.12756986e+03,  5.18036257e+03,\n",
       "        4.56467168e+03,  3.14783629e+02,  7.55445566e+03,  6.38340344e+03,\n",
       "        3.69634845e+03,  7.65628790e+03,  4.07886754e+03,  6.32565905e+03,\n",
       "        3.20501148e+03,  7.15429107e+03,  6.81620321e+03,  3.97989678e+03,\n",
       "        4.12514191e+03,  5.48027683e+03,  2.73864904e+03,  9.52229068e+03,\n",
       "        2.32387740e+03,  4.46934073e+03,  4.28339687e+03,  1.31286324e+03,\n",
       "        1.84548639e+03,  2.97676327e+03,  2.98052701e+03,  3.00501332e+03,\n",
       "        5.91710296e+03,  4.00598321e+03,  4.39298938e+03,  5.52053066e+03,\n",
       "        4.80564176e+03,  4.15158556e+03,  4.12482799e+03,  2.47590896e+03,\n",
       "        7.57639669e+03,  6.51461994e+03,  4.45636411e+03,  4.72741227e+03,\n",
       "        5.07989444e+03,  1.62734873e+03,  8.85485487e+03,  3.69263723e+03,\n",
       "        2.46134061e+03,  4.55348999e+03,  3.50560141e+03,  6.09411685e+03,\n",
       "        5.81298509e+03,  3.64743780e+03,  2.02443251e+03,  5.73546841e+03,\n",
       "        3.77292273e+03,  7.18087434e+03,  4.90876675e+03,  5.66928196e+03,\n",
       "        5.20912824e+03,  4.26284965e+03,  4.20288118e+03,  4.77085120e+03,\n",
       "        3.22457079e+03,  2.94833978e+03,  4.41546534e+03,  6.54180265e+03,\n",
       "        3.43074469e+03,  2.37427839e+03,  3.39910808e+03,  5.81397404e+03,\n",
       "        7.30836100e+03,  6.09128232e+03,  4.49699696e+03,  3.79758804e+03,\n",
       "        7.34827195e+03,  2.50227627e+03,  4.51740944e+03,  5.99221378e+03,\n",
       "        6.51094815e+03,  5.38956425e+03,  3.82235743e+03,  8.09081138e+03,\n",
       "        3.29030645e+03,  5.03415474e+03,  3.88219594e+03,  4.90763245e+03,\n",
       "        2.49823996e+03,  4.39162801e+03,  7.17382028e+03,  5.01548183e+03,\n",
       "        6.69872610e+03,  5.36573869e+03,  3.92019716e+03,  4.86845431e+03,\n",
       "        6.95195077e+03,  3.61207929e+03,  6.08468623e+03,  4.17355654e+03,\n",
       "        6.59827822e+03,  6.33712661e+03,  5.57014828e+03,  3.94693619e+03,\n",
       "        2.85995978e+03,  2.61318185e+03,  7.03231237e+03,  9.49556064e+03,\n",
       "        6.46466598e+03,  2.53763770e+03,  3.57905060e+03,  2.71663552e+03,\n",
       "        7.10542160e+03,  3.63708327e+03,  8.11370932e+03,  5.35460260e+03,\n",
       "        6.69975260e+03,  8.10171325e+03,  3.70865809e+03,  6.21617415e+03,\n",
       "        2.01594598e+03,  7.00037522e+03,  5.09557502e+03,  3.31122084e+03,\n",
       "        4.98224263e+03,  2.30668774e+03,  4.72512913e+03,  8.64344930e+03,\n",
       "        7.72843161e+03,  8.31571664e+03,  3.44018686e+03,  3.55829212e+03,\n",
       "        6.77338847e+03,  7.46838478e+03,  7.81059633e+03,  6.08801827e+03,\n",
       "        4.03690217e+03,  5.66321838e+03,  4.22856105e+03,  6.54233525e+03,\n",
       "        3.27493956e+03,  7.92511730e+03,  4.36527771e+03,  6.28517947e+03,\n",
       "        4.81516472e+03,  4.41231302e+03,  4.46161025e+03,  6.30340399e+03,\n",
       "        5.57052827e+03,  3.84419211e+03,  1.27915326e+03,  4.78325771e+03,\n",
       "        6.05363548e+03,  4.02113226e+03,  6.46780574e+03,  8.32472769e+03,\n",
       "        3.22202088e+02,  2.48669535e+03,  4.14054200e+03,  6.08239921e+03,\n",
       "        4.81420872e+03,  5.98349520e+03,  3.30401549e+03,  7.62313592e+03,\n",
       "        3.88720770e+03,  2.22784696e+03,  2.83951016e+03,  1.29705945e+03])"
      ]
     },
     "execution_count": 2,
     "metadata": {},
     "output_type": "execute_result"
    }
   ],
   "source": [
    "#aylık gelir 5000,standart sapma 2000,1000 kişinin random aylık gelirini oluşturuyoruz\n",
    "gelirler=np.random.normal(5000,2000,1000)\n",
    "gelirler"
   ]
  },
  {
   "cell_type": "code",
   "execution_count": 3,
   "id": "962cec96",
   "metadata": {},
   "outputs": [
    {
     "data": {
      "text/plain": [
       "4937.803057820184"
      ]
     },
     "execution_count": 3,
     "metadata": {},
     "output_type": "execute_result"
    }
   ],
   "source": [
    "np.mean(gelirler)"
   ]
  },
  {
   "cell_type": "code",
   "execution_count": 7,
   "id": "9a1e9684",
   "metadata": {},
   "outputs": [
    {
     "data": {
      "image/png": "[encoded data removed]",
      "text/plain": [
       "<Figure size 640x480 with 1 Axes>"
      ]
     },
     "metadata": {},
     "output_type": "display_data"
    }
   ],
   "source": [
    "import matplotlib.pyplot as plt\n",
    "plt.hist(gelirler,100)\n",
    "plt.show()"
   ]
  },
  {
   "cell_type": "code",
   "execution_count": 8,
   "id": "1bcf85b9",
   "metadata": {},
   "outputs": [
    {
     "data": {
      "text/plain": [
       "4867.728683454113"
      ]
     },
     "execution_count": 8,
     "metadata": {},
     "output_type": "execute_result"
    }
   ],
   "source": [
    "np.median(gelirler)"
   ]
  },
  {
   "cell_type": "code",
   "execution_count": 9,
   "id": "596ab945",
   "metadata": {},
   "outputs": [
    {
     "data": {
      "text/plain": [
       "104832.97008773245"
      ]
     },
     "execution_count": 9,
     "metadata": {},
     "output_type": "execute_result"
    }
   ],
   "source": [
    "gelirler= np.append(gelirler,[100000000])\n",
    "np.mean(gelirler)"
   ]
  },
  {
   "cell_type": "code",
   "execution_count": 12,
   "id": "b0523519",
   "metadata": {},
   "outputs": [],
   "source": [
    "# mean ve median arasında çok fark varsa sıkıntı"
   ]
  },
  {
   "cell_type": "code",
   "execution_count": null,
   "id": "8b830bb1",
   "metadata": {},
   "outputs": [],
   "source": [
    "#okuldaki çocukların ort yaş değeri random oluşturulsun,300 öğrenci,yaşlar 7-18 arasında olsun\n",
    "\n",
    "yaslar=np.random.randint(7,18,size=300)\n",
    "from spicy import stats\n",
    "stats.mode(yaslar)\n",
    "#çıktı: ModeResult(mode=array([13]),count=array([42]))\n",
    "np.median(yaslar)\n",
    "#çıktı: 12.0\n",
    "\n",
    "np.mean(yaslar)\n",
    "#çıktı: 12.0266666667"
   ]
  },
  {
   "cell_type": "code",
   "execution_count": 15,
   "id": "6de8bd27",
   "metadata": {},
   "outputs": [
    {
     "data": {
      "text/plain": [
       "9979048505115.076"
      ]
     },
     "execution_count": 15,
     "metadata": {},
     "output_type": "execute_result"
    }
   ],
   "source": [
    "gelirler.var()"
   ]
  },
  {
   "cell_type": "code",
   "execution_count": 16,
   "id": "b0855df8",
   "metadata": {},
   "outputs": [
    {
     "data": {
      "text/plain": [
       "3158963.200975136"
      ]
     },
     "execution_count": 16,
     "metadata": {},
     "output_type": "execute_result"
    }
   ],
   "source": [
    "gelirler.std()"
   ]
  },
  {
   "cell_type": "code",
   "execution_count": null,
   "id": "63ed9860",
   "metadata": {},
   "outputs": [],
   "source": []
  }
 ],
 "metadata": {
  "kernelspec": {
   "display_name": "Python 3 (ipykernel)",
   "language": "python",
   "name": "python3"
  },
  "language_info": {
   "codemirror_mode": {
    "name": "ipython",
    "version": 3
   },
   "file_extension": ".py",
   "mimetype": "text/x-python",
   "name": "python",
   "nbconvert_exporter": "python",
   "pygments_lexer": "ipython3",
   "version": "3.10.9"
  }
 },
 "nbformat": 4,
 "nbformat_minor": 5
}
